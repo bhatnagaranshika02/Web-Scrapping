{
 "cells": [
  {
   "cell_type": "code",
   "execution_count": null,
   "metadata": {},
   "outputs": [],
   "source": [
    "1. setup ( define objective , identify source)\n",
    "2. Acquisition (access raw data , parse and extrxat)\n",
    "3. Processing (Analyze, explore,learn)\n",
    "-----------------------------------------------------\n",
    "<tag-name attrib-name = \"attrib info\">\n",
    "    element.....\n",
    "    </tag-name>\n",
    "********************************\n",
    "<div id=\"\" class=\"\">\n",
    "*********************************\n",
    "<a href=\"\">\n",
    "**********************************\n",
    "xpath = '/html/body/div[2]'\n",
    "xpath='//table'\n",
    "xpath = '/html/body/div[2]//table'\n",
    "************************************\n",
    "/ - one generation\n",
    "// - all future generation.\n",
    "[]  -help narrow in on specific elements.\n",
    "************************************\n",
    "example:- xpath = 'span[@class='class_name']'\n",
    "***************************************\n",
    "xpath = \"//p[1]\" :- It willlook at only first p tag of all the bodies.\n",
    "******************************************\n",
    "xpath = \"/html/body/*\"\n",
    "**************************************\n",
    "xpath = \"/html/body/div[2]/div/p\"\n",
    "*****************************************\n",
    "xpath = \"//div[@id=\"uid\"/p[2]]\"\n",
    "*******************************************\n",
    "xpath=\"/html/body/div/p[2]/@class\" :- selection of all the classes inside p[2]tag.\n",
    "*********************************************\n",
    "xpath = '//p[@id=\"p2\"]/a/@href'\n",
    "****************************************\n",
    "xpath = \"//a[contains(@class=\"string\")]/@href\"  - to check attr contains string.\n",
    "******************************************\n",
    "xapth is css locator\n",
    "*****************************************\n"
   ]
  },
  {
   "cell_type": "code",
   "execution_count": 2,
   "metadata": {},
   "outputs": [
    {
     "name": "stdout",
     "output_type": "stream",
     "text": [
      "Collecting scrapy\n",
      "  Downloading https://files.pythonhosted.org/packages/d2/b1/105fe9a289e5bb64ec104076546f72060296d9989a0fc31a8b608c810868/Scrapy-2.2.0-py2.py3-none-any.whl (241kB)\n",
      "Collecting Twisted>=17.9.0 (from scrapy)\n",
      "  Downloading https://files.pythonhosted.org/packages/5b/b1/c1944ce7c2e42afc0ee8888df118d9691c5e446cf6fbb0ec1898f2bc0bc9/Twisted-20.3.0-cp37-cp37m-win_amd64.whl (3.1MB)\n",
      "Requirement already satisfied: cryptography>=2.0 in c:\\python\\anacondaa\\lib\\site-packages (from scrapy) (2.7)\n",
      "Collecting protego>=0.1.15 (from scrapy)\n",
      "  Downloading https://files.pythonhosted.org/packages/db/6e/bf6d5e4d7cf233b785719aaec2c38f027b9c2ed980a0015ec1a1cced4893/Protego-0.1.16.tar.gz (3.2MB)\n",
      "Collecting zope.interface>=4.1.3 (from scrapy)\n",
      "  Downloading https://files.pythonhosted.org/packages/3f/f9/af181babed312b9e21271dbfd7ec0815f822a12aaa2fe472d98e62e5bac3/zope.interface-5.1.0-cp37-cp37m-win_amd64.whl (194kB)\n",
      "Collecting service-identity>=16.0.0 (from scrapy)\n",
      "  Using cached https://files.pythonhosted.org/packages/e9/7c/2195b890023e098f9618d43ebc337d83c8b38d414326685339eb024db2f6/service_identity-18.1.0-py2.py3-none-any.whl\n",
      "Collecting parsel>=1.5.0 (from scrapy)\n",
      "  Downloading https://files.pythonhosted.org/packages/23/1e/9b39d64cbab79d4362cdd7be7f5e9623d45c4a53b3f7522cd8210df52d8e/parsel-1.6.0-py2.py3-none-any.whl\n",
      "Requirement already satisfied: pyOpenSSL>=16.2.0 in c:\\python\\anacondaa\\lib\\site-packages (from scrapy) (19.0.0)\n",
      "Collecting PyDispatcher>=2.0.5 (from scrapy)\n",
      "Requirement already satisfied: lxml>=3.5.0 in c:\\python\\anacondaa\\lib\\site-packages (from scrapy) (4.4.1)\n",
      "Collecting itemadapter>=0.1.0 (from scrapy)\n",
      "  Downloading https://files.pythonhosted.org/packages/7d/fb/92f848fcfa85dc9f95370eaecb5c99b5230dd4fc5c6bae684f4ca59df973/itemadapter-0.1.0-py3-none-any.whl\n",
      "Collecting queuelib>=1.4.2 (from scrapy)\n",
      "  Using cached https://files.pythonhosted.org/packages/4c/85/ae64e9145f39dd6d14f8af3fa809a270ef3729f3b90b3c0cf5aa242ab0d4/queuelib-1.5.0-py2.py3-none-any.whl\n",
      "Collecting w3lib>=1.17.0 (from scrapy)\n",
      "  Downloading https://files.pythonhosted.org/packages/a3/59/b6b14521090e7f42669cafdb84b0ab89301a42f1f1a82fcf5856661ea3a7/w3lib-1.22.0-py2.py3-none-any.whl\n",
      "Collecting cssselect>=0.9.1 (from scrapy)\n",
      "  Using cached https://files.pythonhosted.org/packages/3b/d4/3b5c17f00cce85b9a1e6f91096e1cc8e8ede2e1be8e96b87ce1ed09e92c5/cssselect-1.1.0-py2.py3-none-any.whl\n",
      "Collecting hyperlink>=17.1.1 (from Twisted>=17.9.0->scrapy)\n",
      "  Using cached https://files.pythonhosted.org/packages/7f/91/e916ca10a2de1cb7101a9b24da546fb90ee14629e23160086cf3361c4fb8/hyperlink-19.0.0-py2.py3-none-any.whl\n",
      "Collecting incremental>=16.10.1 (from Twisted>=17.9.0->scrapy)\n",
      "  Using cached https://files.pythonhosted.org/packages/f5/1d/c98a587dc06e107115cf4a58b49de20b19222c83d75335a192052af4c4b7/incremental-17.5.0-py2.py3-none-any.whl\n",
      "Collecting Automat>=0.3.0 (from Twisted>=17.9.0->scrapy)\n",
      "  Downloading https://files.pythonhosted.org/packages/dd/83/5f6f3c1a562674d65efc320257bdc0873ec53147835aeef7762fe7585273/Automat-20.2.0-py2.py3-none-any.whl\n",
      "Requirement already satisfied: attrs>=19.2.0 in c:\\python\\anacondaa\\lib\\site-packages (from Twisted>=17.9.0->scrapy) (19.2.0)\n",
      "Collecting constantly>=15.1 (from Twisted>=17.9.0->scrapy)\n",
      "  Using cached https://files.pythonhosted.org/packages/b9/65/48c1909d0c0aeae6c10213340ce682db01b48ea900a7d9fce7a7910ff318/constantly-15.1.0-py2.py3-none-any.whl\n",
      "Collecting PyHamcrest!=1.10.0,>=1.9.0 (from Twisted>=17.9.0->scrapy)\n",
      "  Downloading https://files.pythonhosted.org/packages/40/16/e54cc65891f01cb62893540f44ffd3e8dab0a22443e1b438f1a9f5574bee/PyHamcrest-2.0.2-py3-none-any.whl (52kB)\n",
      "Requirement already satisfied: asn1crypto>=0.21.0 in c:\\python\\anacondaa\\lib\\site-packages (from cryptography>=2.0->scrapy) (1.0.1)\n",
      "Requirement already satisfied: cffi!=1.11.3,>=1.8 in c:\\python\\anacondaa\\lib\\site-packages (from cryptography>=2.0->scrapy) (1.12.3)\n",
      "Requirement already satisfied: six>=1.4.1 in c:\\python\\anacondaa\\lib\\site-packages (from cryptography>=2.0->scrapy) (1.12.0)\n",
      "Requirement already satisfied: setuptools in c:\\python\\anacondaa\\lib\\site-packages (from zope.interface>=4.1.3->scrapy) (41.4.0)\n",
      "Collecting pyasn1 (from service-identity>=16.0.0->scrapy)\n",
      "  Using cached https://files.pythonhosted.org/packages/62/1e/a94a8d635fa3ce4cfc7f506003548d0a2447ae76fd5ca53932970fe3053f/pyasn1-0.4.8-py2.py3-none-any.whl\n",
      "Collecting pyasn1-modules (from service-identity>=16.0.0->scrapy)\n",
      "  Downloading https://files.pythonhosted.org/packages/95/de/214830a981892a3e286c3794f41ae67a4495df1108c3da8a9f62159b9a9d/pyasn1_modules-0.2.8-py2.py3-none-any.whl (155kB)\n",
      "Requirement already satisfied: idna>=2.5 in c:\\python\\anacondaa\\lib\\site-packages (from hyperlink>=17.1.1->Twisted>=17.9.0->scrapy) (2.8)\n",
      "Requirement already satisfied: pycparser in c:\\python\\anacondaa\\lib\\site-packages (from cffi!=1.11.3,>=1.8->cryptography>=2.0->scrapy) (2.19)\n",
      "Building wheels for collected packages: protego\n",
      "  Building wheel for protego (setup.py): started\n",
      "  Building wheel for protego (setup.py): finished with status 'done'\n",
      "  Created wheel for protego: filename=Protego-0.1.16-cp37-none-any.whl size=7770 sha256=c3e04704f8a1c7ecd659e3f1df1b93f820c12fa2fa4f2623cd574287f6da1e8f\n",
      "  Stored in directory: C:\\Users\\Anshika Bhatnagar\\AppData\\Local\\pip\\Cache\\wheels\\51\\01\\d1\\4a2286a976dccd025ba679acacfe37320540df0f2283ecab12\n",
      "Successfully built protego\n",
      "Installing collected packages: hyperlink, incremental, zope.interface, Automat, constantly, PyHamcrest, Twisted, protego, pyasn1, pyasn1-modules, service-identity, w3lib, cssselect, parsel, PyDispatcher, itemadapter, queuelib, scrapy\n",
      "Successfully installed Automat-20.2.0 PyDispatcher-2.0.5 PyHamcrest-2.0.2 Twisted-20.3.0 constantly-15.1.0 cssselect-1.1.0 hyperlink-19.0.0 incremental-17.5.0 itemadapter-0.1.0 parsel-1.6.0 protego-0.1.16 pyasn1-0.4.8 pyasn1-modules-0.2.8 queuelib-1.5.0 scrapy-2.2.0 service-identity-18.1.0 w3lib-1.22.0 zope.interface-5.1.0\n",
      "Note: you may need to restart the kernel to use updated packages.\n"
     ]
    }
   ],
   "source": [
    "%pip install scrapy"
   ]
  },
  {
   "cell_type": "code",
   "execution_count": 3,
   "metadata": {},
   "outputs": [],
   "source": [
    "from scrapy import Selector"
   ]
  },
  {
   "cell_type": "code",
   "execution_count": 4,
   "metadata": {},
   "outputs": [],
   "source": [
    "html= '''\n",
    "<html>\n",
    "  <body>\n",
    "    <div class=\"hello datacamp\">\n",
    "        <p> Hello world</p>\n",
    "    </div>\n",
    "    <p> Enjoy Datacamp</p>\n",
    "   </body>\n",
    "</html>\n",
    "'''"
   ]
  },
  {
   "cell_type": "code",
   "execution_count": 5,
   "metadata": {},
   "outputs": [],
   "source": [
    "sel = Selector(text = html)"
   ]
  },
  {
   "cell_type": "code",
   "execution_count": 6,
   "metadata": {},
   "outputs": [
    {
     "data": {
      "text/plain": [
       "[<Selector xpath='//p' data='<p> Hello world</p>'>,\n",
       " <Selector xpath='//p' data='<p> Enjoy Datacamp</p>'>]"
      ]
     },
     "execution_count": 6,
     "metadata": {},
     "output_type": "execute_result"
    }
   ],
   "source": [
    "sel.xpath(\"//p\")"
   ]
  },
  {
   "cell_type": "code",
   "execution_count": 7,
   "metadata": {},
   "outputs": [
    {
     "data": {
      "text/plain": [
       "['<p> Hello world</p>', '<p> Enjoy Datacamp</p>']"
      ]
     },
     "execution_count": 7,
     "metadata": {},
     "output_type": "execute_result"
    }
   ],
   "source": [
    "sel.xpath(\"//p\").extract()"
   ]
  },
  {
   "cell_type": "code",
   "execution_count": 8,
   "metadata": {},
   "outputs": [
    {
     "data": {
      "text/plain": [
       "'<p> Hello world</p>'"
      ]
     },
     "execution_count": 8,
     "metadata": {},
     "output_type": "execute_result"
    }
   ],
   "source": [
    "sel.xpath(\"//p\").extract_first()"
   ]
  },
  {
   "cell_type": "code",
   "execution_count": 9,
   "metadata": {},
   "outputs": [],
   "source": [
    "ps = sel.xpath('//p')\n",
    "second_p = ps[1]"
   ]
  },
  {
   "cell_type": "code",
   "execution_count": 10,
   "metadata": {},
   "outputs": [
    {
     "data": {
      "text/plain": [
       "'<p> Enjoy Datacamp</p>'"
      ]
     },
     "execution_count": 10,
     "metadata": {},
     "output_type": "execute_result"
    }
   ],
   "source": [
    "second_p.extract()"
   ]
  },
  {
   "cell_type": "code",
   "execution_count": 11,
   "metadata": {},
   "outputs": [
    {
     "data": {
      "text/plain": [
       "[]"
      ]
     },
     "execution_count": 11,
     "metadata": {},
     "output_type": "execute_result"
    }
   ],
   "source": [
    "sel.xpath('//div').xpath('./span/p[3]')"
   ]
  },
  {
   "cell_type": "code",
   "execution_count": 16,
   "metadata": {},
   "outputs": [],
   "source": [
    "from scrapy import Selector\n",
    "import requests\n",
    "url = 'https://learn.datacamp.com//courses/all'\n",
    "html = requests.get(url).content\n",
    "sel= Selector(text = html)"
   ]
  },
  {
   "cell_type": "code",
   "execution_count": null,
   "metadata": {},
   "outputs": [],
   "source": [
    "Css selector - Instead of \"/\" , we use , \" > \" ...\n",
    "\n",
    "xpath= \"html > css > body\"\n",
    "************************************************\n",
    "*** xpath = \"div/span//p\"  (// to select all p tags inside span ) 4\n",
    "*** csslocator = \"div > span p\" ( use space intsead of //)\n",
    "****************************************************\n",
    "*** xpath = \"//div/p[2]\"\n",
    "*** csslocator = \"div > p:nth-of-type(2)\"\n",
    "[N] is replaced by - :nth-of-type\n",
    "****************************************\n",
    "css loc uses simple notation comparitively, to select id attr.\n",
    "******************************************\n",
    "( use a period(.) to find element by class)\n",
    "p.class-1 selects all paragraphs with class-1.\n",
    "( use pound sign(#) to find element by id)\n",
    "div#uid selects all div with id=uid.\n",
    "****************************************************\n",
    "css_locator = '.class1' - all attr belongs to class-1\n",
    "css-locator = 'div#uid > p.class1'"
   ]
  },
  {
   "cell_type": "code",
   "execution_count": null,
   "metadata": {},
   "outputs": [],
   "source": [
    "xpath = \"//div[@id=\"uid\"]/a/@href\"\n",
    "cssloc = <css-to-element> :: attr(attr-name)\n",
    "cssloc = 'div#uid' > a::attr(href)' (:: to select desired attr)"
   ]
  },
  {
   "cell_type": "code",
   "execution_count": null,
   "metadata": {},
   "outputs": [],
   "source": [
    "text()  #for xpath\n",
    "::text  #for css loc\n",
    "        example:-\n",
    "            xpath = \"//div[@id=\"uid\"]/p/text()\".extract()\n",
    "            xpath = \"//div[@id=\"uid\"]/p::text\".extract()"
   ]
  },
  {
   "cell_type": "code",
   "execution_count": null,
   "metadata": {},
   "outputs": [],
   "source": [
    "xpath = \"//p[@id=\"p3\"]\"/text()\n",
    "css_locator = \"p#p3::text\""
   ]
  },
  {
   "cell_type": "code",
   "execution_count": null,
   "metadata": {},
   "outputs": [],
   "source": [
    "response.xpath(\"//div/span[@class=\"bio\"]\")\n",
    "response.css('div>span.bio')\n",
    "#chaining\n",
    "response.xpath('//div').css('span.bio')"
   ]
  },
  {
   "cell_type": "code",
   "execution_count": 1,
   "metadata": {},
   "outputs": [],
   "source": [
    "import scrapy \n",
    "from scrapy.crawler import CrawlerProcess"
   ]
  },
  {
   "cell_type": "code",
   "execution_count": 2,
   "metadata": {},
   "outputs": [],
   "source": [
    "class SpiderClassName(scrapy.Spider):\n",
    "    name = \"spider_name\""
   ]
  },
  {
   "cell_type": "code",
   "execution_count": 3,
   "metadata": {},
   "outputs": [
    {
     "name": "stderr",
     "output_type": "stream",
     "text": [
      "2020-07-23 09:55:28 [scrapy.utils.log] INFO: Scrapy 2.2.0 started (bot: scrapybot)\n",
      "2020-07-23 09:55:28 [scrapy.utils.log] INFO: Versions: lxml 4.4.1.0, libxml2 2.9.9, cssselect 1.1.0, parsel 1.6.0, w3lib 1.22.0, Twisted 20.3.0, Python 3.7.4 (default, Aug  9 2019, 18:34:13) [MSC v.1915 64 bit (AMD64)], pyOpenSSL 19.0.0 (OpenSSL 1.1.1d  10 Sep 2019), cryptography 2.7, Platform Windows-10-10.0.18362-SP0\n",
      "2020-07-23 09:55:28 [scrapy.utils.log] DEBUG: Using reactor: twisted.internet.selectreactor.SelectReactor\n"
     ]
    },
    {
     "ename": "NameError",
     "evalue": "name 'YourSpider' is not defined",
     "output_type": "error",
     "traceback": [
      "\u001b[1;31m---------------------------------------------------------------------------\u001b[0m",
      "\u001b[1;31mNameError\u001b[0m                                 Traceback (most recent call last)",
      "\u001b[1;32m<ipython-input-3-60739ccf98fd>\u001b[0m in \u001b[0;36m<module>\u001b[1;34m\u001b[0m\n\u001b[0;32m      1\u001b[0m \u001b[0mprocess\u001b[0m \u001b[1;33m=\u001b[0m \u001b[0mCrawlerProcess\u001b[0m\u001b[1;33m(\u001b[0m\u001b[1;33m)\u001b[0m\u001b[1;33m\u001b[0m\u001b[1;33m\u001b[0m\u001b[0m\n\u001b[1;32m----> 2\u001b[1;33m \u001b[0mprocess\u001b[0m\u001b[1;33m.\u001b[0m\u001b[0mcrawl\u001b[0m\u001b[1;33m(\u001b[0m\u001b[0mYourSpider\u001b[0m\u001b[1;33m)\u001b[0m\u001b[1;33m\u001b[0m\u001b[1;33m\u001b[0m\u001b[0m\n\u001b[0m\u001b[0;32m      3\u001b[0m \u001b[0mprocess\u001b[0m\u001b[1;33m.\u001b[0m\u001b[0mstart\u001b[0m\u001b[1;33m(\u001b[0m\u001b[1;33m)\u001b[0m\u001b[1;33m\u001b[0m\u001b[1;33m\u001b[0m\u001b[0m\n",
      "\u001b[1;31mNameError\u001b[0m: name 'YourSpider' is not defined"
     ]
    }
   ],
   "source": [
    "process = CrawlerProcess()\n",
    "process.crawl(YourSpider)\n",
    "process.start()"
   ]
  },
  {
   "cell_type": "code",
   "execution_count": 4,
   "metadata": {},
   "outputs": [],
   "source": [
    "class DCspider(scrapy.Spider):\n",
    "    name = 'dc_spider'\n",
    "    def start_requests(self):\n",
    "        urls = ['']\n",
    "        for url in urls:\n",
    "            yield scrapy.Request(url = url,callback = self.parse)\n",
    "    def parse(self,response):\n",
    "        html_file = 'DC_courses.html'\n",
    "        with open( html_file,'wb') as fout:\n",
    "            fout.write(response.body)"
   ]
  },
  {
   "cell_type": "code",
   "execution_count": 3,
   "metadata": {},
   "outputs": [
    {
     "name": "stderr",
     "output_type": "stream",
     "text": [
      "2020-08-24 11:07:29 [scrapy.utils.log] INFO: Scrapy 2.2.0 started (bot: scrapybot)\n",
      "2020-08-24 11:07:30 [scrapy.utils.log] INFO: Versions: lxml 4.4.1.0, libxml2 2.9.9, cssselect 1.1.0, parsel 1.6.0, w3lib 1.22.0, Twisted 20.3.0, Python 3.7.4 (default, Aug  9 2019, 18:34:13) [MSC v.1915 64 bit (AMD64)], pyOpenSSL 19.0.0 (OpenSSL 1.1.1d  10 Sep 2019), cryptography 2.7, Platform Windows-10-10.0.18362-SP0\n",
      "2020-08-24 11:07:30 [scrapy.utils.log] DEBUG: Using reactor: twisted.internet.selectreactor.SelectReactor\n",
      "2020-08-24 11:07:30 [scrapy.crawler] INFO: Overridden settings:\n",
      "{}\n",
      "2020-08-24 11:07:30 [scrapy.extensions.telnet] INFO: Telnet Password: 7eac874121132708\n",
      "2020-08-24 11:07:30 [scrapy.middleware] INFO: Enabled extensions:\n",
      "['scrapy.extensions.corestats.CoreStats',\n",
      " 'scrapy.extensions.telnet.TelnetConsole',\n",
      " 'scrapy.extensions.logstats.LogStats']\n",
      "2020-08-24 11:07:32 [scrapy.middleware] INFO: Enabled downloader middlewares:\n",
      "['scrapy.downloadermiddlewares.httpauth.HttpAuthMiddleware',\n",
      " 'scrapy.downloadermiddlewares.downloadtimeout.DownloadTimeoutMiddleware',\n",
      " 'scrapy.downloadermiddlewares.defaultheaders.DefaultHeadersMiddleware',\n",
      " 'scrapy.downloadermiddlewares.useragent.UserAgentMiddleware',\n",
      " 'scrapy.downloadermiddlewares.retry.RetryMiddleware',\n",
      " 'scrapy.downloadermiddlewares.redirect.MetaRefreshMiddleware',\n",
      " 'scrapy.downloadermiddlewares.httpcompression.HttpCompressionMiddleware',\n",
      " 'scrapy.downloadermiddlewares.redirect.RedirectMiddleware',\n",
      " 'scrapy.downloadermiddlewares.cookies.CookiesMiddleware',\n",
      " 'scrapy.downloadermiddlewares.httpproxy.HttpProxyMiddleware',\n",
      " 'scrapy.downloadermiddlewares.stats.DownloaderStats']\n",
      "2020-08-24 11:07:33 [scrapy.middleware] INFO: Enabled spider middlewares:\n",
      "['scrapy.spidermiddlewares.httperror.HttpErrorMiddleware',\n",
      " 'scrapy.spidermiddlewares.offsite.OffsiteMiddleware',\n",
      " 'scrapy.spidermiddlewares.referer.RefererMiddleware',\n",
      " 'scrapy.spidermiddlewares.urllength.UrlLengthMiddleware',\n",
      " 'scrapy.spidermiddlewares.depth.DepthMiddleware']\n",
      "2020-08-24 11:07:33 [scrapy.middleware] INFO: Enabled item pipelines:\n",
      "[]\n",
      "2020-08-24 11:07:33 [scrapy.core.engine] INFO: Spider opened\n",
      "2020-08-24 11:07:33 [scrapy.extensions.logstats] INFO: Crawled 0 pages (at 0 pages/min), scraped 0 items (at 0 items/min)\n",
      "2020-08-24 11:07:33 [scrapy.extensions.telnet] INFO: Telnet console listening on 127.0.0.1:6023\n",
      "2020-08-24 11:07:34 [scrapy.core.engine] DEBUG: Crawled (200) <GET https://campus.datacamp.com/courses/web-scraping-with-python/spiders?ex=10> (referer: None)\n",
      "2020-08-24 11:07:34 [scrapy.core.engine] INFO: Closing spider (finished)\n",
      "2020-08-24 11:07:34 [scrapy.statscollectors] INFO: Dumping Scrapy stats:\n",
      "{'downloader/request_bytes': 265,\n",
      " 'downloader/request_count': 1,\n",
      " 'downloader/request_method_count/GET': 1,\n",
      " 'downloader/response_bytes': 33391,\n",
      " 'downloader/response_count': 1,\n",
      " 'downloader/response_status_count/200': 1,\n",
      " 'elapsed_time_seconds': 1.815147,\n",
      " 'finish_reason': 'finished',\n",
      " 'finish_time': datetime.datetime(2020, 8, 24, 5, 37, 34, 949764),\n",
      " 'log_count/DEBUG': 1,\n",
      " 'log_count/INFO': 10,\n",
      " 'response_received_count': 1,\n",
      " 'scheduler/dequeued': 1,\n",
      " 'scheduler/dequeued/memory': 1,\n",
      " 'scheduler/enqueued': 1,\n",
      " 'scheduler/enqueued/memory': 1,\n",
      " 'start_time': datetime.datetime(2020, 8, 24, 5, 37, 33, 134617)}\n",
      "2020-08-24 11:07:34 [scrapy.core.engine] INFO: Spider closed (finished)\n"
     ]
    }
   ],
   "source": [
    "import scrapy\n",
    "from scrapy.crawler import CrawlerProcess\n",
    "class DC_Chapter_Spider(scrapy.Spider):\n",
    "    name = \"dc_chapter_spider\"\n",
    "    def start_requests(self):\n",
    "        url = \"https://campus.datacamp.com/courses/web-scraping-with-python/spiders?ex=10\"\n",
    "        yield scrapy.Request(url=url,callback=self.parse_front)\n",
    "    def parse_front(self,response):\n",
    "        pass\n",
    "            \n",
    "    def parse_page(self,response):\n",
    "        pass\n",
    "    \n",
    "dc_dict = dict()\n",
    "process= CrawlerProcess()\n",
    "process.crawl(DC_Chapter_Spider)\n",
    "process.start()\n",
    "    "
   ]
  },
  {
   "cell_type": "code",
   "execution_count": null,
   "metadata": {},
   "outputs": [],
   "source": []
  }
 ],
 "metadata": {
  "kernelspec": {
   "display_name": "Python 3",
   "language": "python",
   "name": "python3"
  },
  "language_info": {
   "codemirror_mode": {
    "name": "ipython",
    "version": 3
   },
   "file_extension": ".py",
   "mimetype": "text/x-python",
   "name": "python",
   "nbconvert_exporter": "python",
   "pygments_lexer": "ipython3",
   "version": "3.7.4"
  }
 },
 "nbformat": 4,
 "nbformat_minor": 2
}
