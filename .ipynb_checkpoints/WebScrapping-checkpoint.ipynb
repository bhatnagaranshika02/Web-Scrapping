{
 "cells": [
  {
   "cell_type": "code",
   "execution_count": null,
   "metadata": {},
   "outputs": [],
   "source": [
    "1. setup ( define objective , identify source)\n",
    "2. Acquisition (access raw data , parse and extrxat)\n",
    "3. Processing (Analyze, explore,learn)\n",
    "-----------------------------------------------------\n",
    "<tag-name attrib-name = \"attrib info\">\n",
    "    element.....\n",
    "    </tag-name>\n",
    "********************************\n",
    "<div id=\"\" class=\"\">\n",
    "*********************************\n",
    "<a href=\"\">\n",
    "**********************************\n",
    "xpath = '/html/body/div[2]'\n",
    "xpath='//table'\n",
    "xpath = '/html/body/div[2]//table'\n",
    "************************************\n",
    "/ - one generation\n",
    "// - all future generation.\n",
    "[]  -help narrow in on specific elements.\n",
    "************************************\n",
    "example:- xpath = 'span[@class='class_name']'\n",
    "***************************************\n",
    "xpath = \"//p[1]\" :- It willlook at only first p tag of all the bodies.\n",
    "******************************************\n",
    "xpath = \"/html/body/*\"\n",
    "**************************************\n",
    "xpath = \"/html/body/div[2]/div/p\"\n",
    "*****************************************\n",
    "xpath = \"//div[@id=\"uid\"/p[2]]\"\n",
    "*******************************************\n",
    "xpath=\"/html/body/div/p[2]/@class\" :- selection of all the classes inside p[2]tag.\n",
    "*********************************************\n",
    "xpath = '//p[@id=\"p2\"]/a/@href'\n",
    "****************************************\n"
   ]
  },
  {
   "cell_type": "code",
   "execution_count": null,
   "metadata": {},
   "outputs": [],
   "source": []
  }
 ],
 "metadata": {
  "kernelspec": {
   "display_name": "Python 3",
   "language": "python",
   "name": "python3"
  },
  "language_info": {
   "codemirror_mode": {
    "name": "ipython",
    "version": 3
   },
   "file_extension": ".py",
   "mimetype": "text/x-python",
   "name": "python",
   "nbconvert_exporter": "python",
   "pygments_lexer": "ipython3",
   "version": "3.7.4"
  }
 },
 "nbformat": 4,
 "nbformat_minor": 2
}
