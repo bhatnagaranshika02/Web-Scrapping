{
 "cells": [
  {
   "cell_type": "code",
   "execution_count": null,
   "metadata": {},
   "outputs": [],
   "source": [
    "1. setup ( define objective , identify source)\n",
    "2. Acquisition (access raw data , parse and extrxat)\n",
    "3. Processing (Analyze, explore,learn)\n",
    "-----------------------------------------------------\n",
    "<tag-name attrib-name = \"attrib info\">\n",
    "    element.....\n",
    "    </tag-name>\n",
    "********************************\n",
    "<div id=\"\" class=\"\">\n",
    "*********************************\n",
    "<a href=\"\">\n",
    "**********************************\n",
    "xpath = '/html/body/div[2]'\n",
    "xpath='//table'\n",
    "xpath = '/html/body/div[2]//table'"
   ]
  },
  {
   "cell_type": "code",
   "execution_count": null,
   "metadata": {},
   "outputs": [],
   "source": []
  }
 ],
 "metadata": {
  "kernelspec": {
   "display_name": "Python 3",
   "language": "python",
   "name": "python3"
  },
  "language_info": {
   "codemirror_mode": {
    "name": "ipython",
    "version": 3
   },
   "file_extension": ".py",
   "mimetype": "text/x-python",
   "name": "python",
   "nbconvert_exporter": "python",
   "pygments_lexer": "ipython3",
   "version": "3.7.4"
  }
 },
 "nbformat": 4,
 "nbformat_minor": 2
}
